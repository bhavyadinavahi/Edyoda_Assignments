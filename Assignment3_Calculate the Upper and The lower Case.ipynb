{
 "cells": [
  {
   "cell_type": "markdown",
   "id": "b90adf1b",
   "metadata": {},
   "source": [
    "# Write a Python function that accepts a string and calculate the number of upper case letters and lower case letters.\n",
    "\n",
    "Sample String : 'The quick Brow Fox'\n",
    "\n",
    "Expected Output :\n",
    "\n",
    "No. of Upper case characters : 3\n",
    "No. of Lower case Characters : 12"
   ]
  },
  {
   "cell_type": "code",
   "execution_count": 7,
   "id": "58014abe",
   "metadata": {
    "scrolled": true
   },
   "outputs": [
    {
     "name": "stdout",
     "output_type": "stream",
     "text": [
      "Enter sample string: The quick Brow Fox\n",
      "Number of Upper case letters is:  3\n",
      "Number of Lower case letters is:  12\n"
     ]
    }
   ],
   "source": [
    "s=input(\"Enter sample string: \")\n",
    "def my_string(s):\n",
    "    count_upper=0\n",
    "    count_lower=0\n",
    "    for i in s:\n",
    "        if i.isupper():\n",
    "            count_upper=count_upper+1\n",
    "        elif i.islower():\n",
    "            count_lower=count_lower+1\n",
    "    print(\"Number of Upper case letters is: \",count_upper)\n",
    "    print(\"Number of Lower case letters is: \",count_lower)\n",
    "my_string(s)"
   ]
  }
 ],
 "metadata": {
  "kernelspec": {
   "display_name": "Python 3 (ipykernel)",
   "language": "python",
   "name": "python3"
  },
  "language_info": {
   "codemirror_mode": {
    "name": "ipython",
    "version": 3
   },
   "file_extension": ".py",
   "mimetype": "text/x-python",
   "name": "python",
   "nbconvert_exporter": "python",
   "pygments_lexer": "ipython3",
   "version": "3.9.13"
  }
 },
 "nbformat": 4,
 "nbformat_minor": 5
}
