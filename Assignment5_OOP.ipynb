{
 "cells": [
  {
   "cell_type": "markdown",
   "id": "4401303c",
   "metadata": {},
   "source": [
    "# Square Numbers and Return Their Sum"
   ]
  },
  {
   "cell_type": "code",
   "execution_count": 8,
   "id": "342943e5",
   "metadata": {},
   "outputs": [
    {
     "name": "stdout",
     "output_type": "stream",
     "text": [
      "Sum of square of numbers is:  35\n"
     ]
    }
   ],
   "source": [
    "class Point:\n",
    "    def __init__(self,x,y,z):\n",
    "        self.x=x\n",
    "        self.y=y\n",
    "        self.z=z\n",
    "    def sqSum(self):\n",
    "        a=self.x*self.x\n",
    "        b=self.y*self.y\n",
    "        c=self.z*self.z\n",
    "        return(a+b+c)\n",
    "obj1=Point(1,3,5)\n",
    "print(\"Sum of square of numbers is: \",(obj1.sqSum()))"
   ]
  },
  {
   "cell_type": "markdown",
   "id": "9be3c7f9",
   "metadata": {},
   "source": [
    "# Implement Calculator Class"
   ]
  },
  {
   "cell_type": "code",
   "execution_count": 1,
   "id": "442eed6d",
   "metadata": {},
   "outputs": [
    {
     "name": "stdout",
     "output_type": "stream",
     "text": [
      "The sum is:  104\n",
      "The difference is:  84\n",
      "the product is:  940\n",
      "The division is:  9.4\n"
     ]
    }
   ],
   "source": [
    "class Calculator:\n",
    "    def __init__(self,num1,num2):\n",
    "        self.num1=num1\n",
    "        self.num2=num2\n",
    "    def add(self):\n",
    "        return(self.num1+self.num2)\n",
    "    def subtract(self):\n",
    "        return(self.num2-self.num1)\n",
    "    def multiply(self):\n",
    "        return(self.num1*self.num2)\n",
    "    def divide(self):\n",
    "        return(self.num2/self.num1)\n",
    "\n",
    "obj=Calculator(10,94)\n",
    "print(\"The sum is: \",obj.add())\n",
    "print(\"The difference is: \",obj.subtract())\n",
    "print(\"the product is: \",obj.multiply())\n",
    "print(\"The division is: \",obj.divide())"
   ]
  },
  {
   "cell_type": "markdown",
   "id": "2042a2bb",
   "metadata": {},
   "source": [
    "# Implement Complete Student Class"
   ]
  },
  {
   "cell_type": "code",
   "execution_count": 4,
   "id": "b00dbd4d",
   "metadata": {},
   "outputs": [
    {
     "name": "stdout",
     "output_type": "stream",
     "text": [
      "The name of student is:  Bhavya\n",
      "The roll number of student is:  26\n"
     ]
    }
   ],
   "source": [
    "class Student:\n",
    "    def setName(self,name):\n",
    "        self.__name=name\n",
    "    def getName(self):\n",
    "        return self.__name\n",
    "    def setRollNumber(self,RollNumber):\n",
    "        self.__RollNumber=RollNumber\n",
    "    def getRollNumber(self):\n",
    "        return self.__RollNumber\n",
    "\n",
    "obj=Student()\n",
    "obj.setName(\"Bhavya\")\n",
    "obj.setRollNumber(26)\n",
    "print(\"The name of student is: \",obj.getName())\n",
    "print(\"The roll number of student is: \",obj.getRollNumber())"
   ]
  },
  {
   "cell_type": "markdown",
   "id": "8b549f06",
   "metadata": {},
   "source": [
    "# Implement a banking account"
   ]
  },
  {
   "cell_type": "code",
   "execution_count": 6,
   "id": "5e6a5782",
   "metadata": {},
   "outputs": [
    {
     "name": "stdout",
     "output_type": "stream",
     "text": [
      "Account is created. \n",
      "Balance is:  2000\n"
     ]
    }
   ],
   "source": [
    "class Account:\n",
    "    def __init__(self, title=None, balance=0):\n",
    "        self.title = title\n",
    "        self.balance = balance\n",
    "class SavingsAccount(Account):\n",
    "    def __init__(self, title=None, balance=0, interestRate=0):\n",
    "        super().__init__(title, balance)\n",
    "        self.interestRate = interestRate\n",
    "balance=2000\n",
    "print(\"Account is created. \\nBalance is: \",balance)"
   ]
  },
  {
   "cell_type": "markdown",
   "id": "592e6ee1",
   "metadata": {},
   "source": [
    "# Handling a bank account"
   ]
  },
  {
   "cell_type": "code",
   "execution_count": 2,
   "id": "cd732b74",
   "metadata": {},
   "outputs": [
    {
     "name": "stdout",
     "output_type": "stream",
     "text": [
      "Initial balance:  2000\n",
      "Updated balance after deposit:  2500\n",
      "Updated balance after withdrawl:  2000\n",
      "Interest amount is:  100.0\n"
     ]
    }
   ],
   "source": [
    "class Account:\n",
    "    def __init__(self,title=None,balance=0):\n",
    "        self.title=title\n",
    "        self.balance=balance\n",
    "    def withdrawl(self,amount):\n",
    "        self.balance=self.balance-amount \n",
    "    def deposit(self,amount):\n",
    "        self.balance=self.balance+amount\n",
    "    def getBalance(self):\n",
    "        return self.balance\n",
    "class SavingsAccount(Account):\n",
    "    def __init__(self,title=None,balance=0,interestRate=0):\n",
    "        super().__init__(title,balance)\n",
    "        self.interestRate=interestRate\n",
    "    def interestAmount(self):\n",
    "        interestAmount=self.balance*self.interestRate/100\n",
    "        return(self.balance*self.interestRate/100)\n",
    "\n",
    "demo1=SavingsAccount(\"Ashish\",2000,5)\n",
    "print(\"Initial balance: \",demo1.getBalance())\n",
    "demo1.deposit(500)\n",
    "print(\"Updated balance after deposit: \",demo1.getBalance())\n",
    "demo1.withdrawl(500)\n",
    "print(\"Updated balance after withdrawl: \",demo1.getBalance())\n",
    "print(\"Interest amount is: \",demo1.interestAmount())"
   ]
  }
 ],
 "metadata": {
  "kernelspec": {
   "display_name": "Python 3 (ipykernel)",
   "language": "python",
   "name": "python3"
  },
  "language_info": {
   "codemirror_mode": {
    "name": "ipython",
    "version": 3
   },
   "file_extension": ".py",
   "mimetype": "text/x-python",
   "name": "python",
   "nbconvert_exporter": "python",
   "pygments_lexer": "ipython3",
   "version": "3.9.13"
  }
 },
 "nbformat": 4,
 "nbformat_minor": 5
}
