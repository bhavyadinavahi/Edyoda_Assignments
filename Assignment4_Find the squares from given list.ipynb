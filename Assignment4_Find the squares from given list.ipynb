{
 "cells": [
  {
   "cell_type": "markdown",
   "id": "051b917d",
   "metadata": {},
   "source": [
    "# Write a Python program to square the elements of a list using map() function.\n",
    "Sample List: [4, 5, 2, 9] \n",
    "    \n",
    "Square the elements of the list: [16, 25, 4, 81]"
   ]
  },
  {
   "cell_type": "code",
   "execution_count": 1,
   "id": "01bd90f9",
   "metadata": {},
   "outputs": [
    {
     "name": "stdout",
     "output_type": "stream",
     "text": [
      "Sample list:  [4, 5, 2, 9]\n",
      "Square the elements of the list: \n",
      "[16, 25, 4, 81]\n"
     ]
    }
   ],
   "source": [
    "list1 = [4,5,2,9]\n",
    "print(\"Sample list: \", list1)\n",
    "square_list = map(lambda x: x*x, list1) \n",
    "print(\"Square the elements of the list: \")\n",
    "print(list(square_list))"
   ]
  }
 ],
 "metadata": {
  "kernelspec": {
   "display_name": "Python 3 (ipykernel)",
   "language": "python",
   "name": "python3"
  },
  "language_info": {
   "codemirror_mode": {
    "name": "ipython",
    "version": 3
   },
   "file_extension": ".py",
   "mimetype": "text/x-python",
   "name": "python",
   "nbconvert_exporter": "python",
   "pygments_lexer": "ipython3",
   "version": "3.9.13"
  }
 },
 "nbformat": 4,
 "nbformat_minor": 5
}
