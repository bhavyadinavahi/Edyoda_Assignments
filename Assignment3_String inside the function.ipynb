{
 "cells": [
  {
   "cell_type": "markdown",
   "id": "2620607e",
   "metadata": {},
   "source": [
    "# Write a Python program to reverse a string.\n",
    "Sample String : \"1234abcd\" Expected Output : \"dcba4321\""
   ]
  },
  {
   "cell_type": "code",
   "execution_count": 1,
   "id": "4e8266fd",
   "metadata": {},
   "outputs": [
    {
     "name": "stdout",
     "output_type": "stream",
     "text": [
      "Enter sample string: 1234abcd\n",
      "The reversed string is:  dcba4321\n"
     ]
    }
   ],
   "source": [
    "def string_reversal(x):\n",
    "    return x[::-1]\n",
    "my_string=str(input(\"Enter sample string: \"))\n",
    "my_string=string_reversal(my_string)\n",
    "print(\"The reversed string is: \",my_string)"
   ]
  }
 ],
 "metadata": {
  "kernelspec": {
   "display_name": "Python 3 (ipykernel)",
   "language": "python",
   "name": "python3"
  },
  "language_info": {
   "codemirror_mode": {
    "name": "ipython",
    "version": 3
   },
   "file_extension": ".py",
   "mimetype": "text/x-python",
   "name": "python",
   "nbconvert_exporter": "python",
   "pygments_lexer": "ipython3",
   "version": "3.9.13"
  }
 },
 "nbformat": 4,
 "nbformat_minor": 5
}
