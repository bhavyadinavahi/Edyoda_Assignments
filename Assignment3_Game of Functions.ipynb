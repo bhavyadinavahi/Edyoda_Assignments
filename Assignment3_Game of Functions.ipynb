{
 "cells": [
  {
   "cell_type": "markdown",
   "id": "a654ff0d",
   "metadata": {},
   "source": [
    "# Write a Python function to sum all the numbers in a list.\n",
    "Sample List : (8, 2, 3, 0, 7) Expected Output : 20\n",
    "\n",
    "Explanation:\n",
    "\n",
    "Summation should like 8+2+3+0+7 = 20"
   ]
  },
  {
   "cell_type": "code",
   "execution_count": 1,
   "id": "b868ea3d",
   "metadata": {},
   "outputs": [
    {
     "name": "stdout",
     "output_type": "stream",
     "text": [
      "20\n"
     ]
    }
   ],
   "source": [
    "list1=(8,2,3,0,7)\n",
    "def sum(list1):\n",
    "    sum1=0\n",
    "    for i in list1:\n",
    "        sum1=sum1+i\n",
    "    return sum1\n",
    "print(sum(list1))"
   ]
  }
 ],
 "metadata": {
  "kernelspec": {
   "display_name": "Python 3 (ipykernel)",
   "language": "python",
   "name": "python3"
  },
  "language_info": {
   "codemirror_mode": {
    "name": "ipython",
    "version": 3
   },
   "file_extension": ".py",
   "mimetype": "text/x-python",
   "name": "python",
   "nbconvert_exporter": "python",
   "pygments_lexer": "ipython3",
   "version": "3.9.13"
  }
 },
 "nbformat": 4,
 "nbformat_minor": 5
}
