{
 "cells": [
  {
   "cell_type": "markdown",
   "id": "1a1100d6",
   "metadata": {},
   "source": [
    "# Create a JSON file (employee.json) containing employee information of minimum 5 employees. Each employee information consists of Name, DOB, Height, City, State. Write a python program that reads this information from the JSON file and saves the information into a list of objects of Employee class. Finally print the list of the Employee objects."
   ]
  },
  {
   "cell_type": "code",
   "execution_count": 1,
   "id": "8daf2cd1",
   "metadata": {},
   "outputs": [
    {
     "name": "stdout",
     "output_type": "stream",
     "text": [
      "json file is generated\n"
     ]
    }
   ],
   "source": [
    "import json\n",
    "emp={\n",
    "    \"employee_details\":[\n",
    "  {\n",
    "   \"Name\": \"Bhavya\",\n",
    "   \"DOB\": \"21 March 1997\",\n",
    "   \"Height\": \"5ft 6inches\",\n",
    "   \"City\":\"Hyderabad\",\n",
    "   \"State\":\"Telangana\"\n",
    "  },\n",
    "  {\n",
    "    \"Name\": \"Archana\",\n",
    "    \"DOB\": \"24 February 1996\",\n",
    "    \"Height\": \"5ft 3inches\",\n",
    "    \"City\":\"Chennai\",\n",
    "    \"State\":\"Tamil Nadu\"\n",
    "   },\n",
    "   {\n",
    "    \"Name\": \"Chaitanya\",\n",
    "    \"DOB\": \"2 September 1996\",\n",
    "    \"Height\": \"5ft 7inches\",\n",
    "    \"City\":\"Chennai\",\n",
    "    \"State\":\"Tamil Nadu\"\n",
    "   },\n",
    "   {\n",
    "    \"Name\": \"Swati\",\n",
    "    \"DOB\": \"28 Octoberr 1997\",\n",
    "    \"Height\": \"5ft 4inches\",\n",
    "    \"City\":\"Chennai\",\n",
    "    \"State\":\"Tamil Nadu\"\n",
    "   },\n",
    "   {\n",
    "    \"Name\": \"Prachi\",\n",
    "    \"DOB\": \"29 January 1997\",\n",
    "    \"Height\": \"5ft 4inches\",\n",
    "    \"City\":\"Chennai\",\n",
    "    \"State\":\"Tamil Nadu\"\n",
    "   }\n",
    "]\n",
    "}\n",
    "\n",
    "with open(\"employee.json\",'w') as f:\n",
    "    json.dump(emp,f,indent=5)\n",
    "    print(\"json file is generated\")"
   ]
  },
  {
   "cell_type": "markdown",
   "id": "c2ab684a",
   "metadata": {},
   "source": [
    "# Create a dictionary of any 7 Indian states and their capitals. Write this into a JSON file"
   ]
  },
  {
   "cell_type": "code",
   "execution_count": 2,
   "id": "c5024b32",
   "metadata": {},
   "outputs": [
    {
     "name": "stdout",
     "output_type": "stream",
     "text": [
      "json file is generated\n"
     ]
    }
   ],
   "source": [
    "import json\n",
    "state_capitals={\"Andhra Pradesh\":\"Amaravati\",\n",
    "                \"Delhi\":\"New Delhi\",\n",
    "                \"Haryana\":\"Chandigarh\", \n",
    "                \"Tamil Nadu\":\"Chennai\", \n",
    "                \"Meghalaya\":\"Shillong\",\n",
    "                \"Himachal Pradesh\":\"Shimla\",\n",
    "                \"Bihar\":\"Patna\"}\n",
    "with open(\"states.json\",'w') as f:\n",
    "    json.dump(state_capitals,f,indent=5)\n",
    "    print(\"json file is generated\")"
   ]
  },
  {
   "cell_type": "markdown",
   "id": "39ad8ab1",
   "metadata": {},
   "source": [
    "# Create a class named ‘Dog’. It should have a constructor which accepts its name, age and coat color. You must perform the following operations:It should have a function ‘description()’ which prints the name and age of the dog.It should have a function ‘get_info()’ which prints the coat color of the dog.Create child classes ‘JackRussellTerrier’ and ‘Bulldog’ which is inherited from the class ‘Dog’. It should have at least two methods of its own.Create objects and implement the above functionalities."
   ]
  },
  {
   "cell_type": "code",
   "execution_count": 3,
   "id": "c75c6844",
   "metadata": {},
   "outputs": [
    {
     "name": "stdout",
     "output_type": "stream",
     "text": [
      "Rex is 5 years old\n",
      "Rex has Brown fur\n",
      "Oreo is 7 years old\n",
      "Oreo has Fawn fur\n",
      "************\n",
      "Rex is a Jack Russel Terrier\n",
      "Rex is happy and energetic\n",
      "Rex needs moderate attention\n",
      "Rex has a lifespan of 13-15 years\n",
      "Rex has double coat, flat, hard coat\n",
      "************\n",
      "Oreo is a Bulldog\n",
      "Oreo is friendly but dignified\n",
      "Oreo needs moderate attention\n",
      "Oreo has a lifespan of 8-10 years\n",
      "Oreo has straight coat\n",
      "************\n"
     ]
    }
   ],
   "source": [
    "class Dog:\n",
    "    def __init__(self, name, age, coatcolor):\n",
    "        self.name = name\n",
    "        self.age = age\n",
    "        self.coatcolor=coatcolor   \n",
    "    def description(self): \n",
    "        return f\"{self.name} is {self.age} years old\"\n",
    "    def get_info(self):\n",
    "        return f\"{self.name} has {self.coatcolor} fur\"\n",
    "    \n",
    "    \n",
    "class JackRussellTerrier(Dog):\n",
    "    def breed(self, breed=\"Jack Russel Terrier\"):\n",
    "        return f\"{self.name} is a {breed}\"\n",
    "    def mood(self, mood=\"happy and energetic\"):\n",
    "        return f\"{self.name} is {mood}\"\n",
    "    def attention(self,attention=\"moderate\"):\n",
    "        return f\"{self.name} needs {attention} attention\"\n",
    "    def longevityrange(self, longevityrange=\"13-15 years\"):\n",
    "        return f\"{self.name} has a lifespan of {longevityrange}\"\n",
    "    def characteristics(self,characteristics=\"double coat, flat, hard coat\"):\n",
    "        return f\"{self.name} has {characteristics}\"\n",
    "    \n",
    "class Bulldog(Dog):\n",
    "    def breed(self, breed=\"Bulldog\"):\n",
    "        return f\"{self.name} is a {breed}\"\n",
    "    def mood(self, mood=\"friendly but dignified\"):\n",
    "        return f\"{self.name} is {mood}\"\n",
    "    def attention(self,attention=\"moderate\"):\n",
    "        return f\"{self.name} needs {attention} attention\"\n",
    "    def longevityrange(self, longevityrange=\"8-10 years\"):\n",
    "        return f\"{self.name} has a lifespan of {longevityrange}\"\n",
    "    def characteristics(self,characteristics=\"straight coat\"):\n",
    "        return f\"{self.name} has {characteristics}\"\n",
    "\n",
    "Rex=Dog(\"Rex\",5,\"Brown\")\n",
    "print(Rex.description())\n",
    "print(Rex.get_info())\n",
    "Oreo=Dog(\"Oreo\",7,\"Fawn\")\n",
    "print(Oreo.description())\n",
    "print(Oreo.get_info())\n",
    "print(\"************\")\n",
    "\n",
    "Rex=JackRussellTerrier(\"Rex\", 5,\"Brown\")\n",
    "print(Rex.breed())\n",
    "print(Rex.mood())\n",
    "print(Rex.attention())\n",
    "print(Rex.longevityrange())\n",
    "print(Rex.characteristics())\n",
    "print(\"************\")\n",
    "\n",
    "Oreo=Bulldog(\"Oreo\",6,\"White\")\n",
    "print(Oreo.breed())\n",
    "print(Oreo.mood())\n",
    "print(Oreo.attention())\n",
    "print(Oreo.longevityrange())\n",
    "print(Oreo.characteristics())\n",
    "print(\"************\")"
   ]
  }
 ],
 "metadata": {
  "kernelspec": {
   "display_name": "Python 3 (ipykernel)",
   "language": "python",
   "name": "python3"
  },
  "language_info": {
   "codemirror_mode": {
    "name": "ipython",
    "version": 3
   },
   "file_extension": ".py",
   "mimetype": "text/x-python",
   "name": "python",
   "nbconvert_exporter": "python",
   "pygments_lexer": "ipython3",
   "version": "3.9.13"
  }
 },
 "nbformat": 4,
 "nbformat_minor": 5
}
