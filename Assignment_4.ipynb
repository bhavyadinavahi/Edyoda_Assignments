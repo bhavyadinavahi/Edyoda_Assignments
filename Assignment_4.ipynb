{
 "cells": [
  {
   "cell_type": "markdown",
   "id": "a373a115",
   "metadata": {},
   "source": [
    "# Write a Python program to create a lambda function that adds 25 to a given number passed in as an argument.\n",
    "\n",
    "sample input: 10\n",
    "\n",
    "sample output: 35"
   ]
  },
  {
   "cell_type": "code",
   "execution_count": 1,
   "id": "6b474af3",
   "metadata": {},
   "outputs": [
    {
     "name": "stdout",
     "output_type": "stream",
     "text": [
      "Sample input: 10\n",
      "Sample output 35\n"
     ]
    }
   ],
   "source": [
    "x=int(input(\"Sample input: \"))\n",
    "y = lambda x : x + 25\n",
    "print(\"Sample output\",y(x))"
   ]
  },
  {
   "cell_type": "markdown",
   "id": "aa2d5602",
   "metadata": {},
   "source": [
    "# Write a Python program to triple all numbers of a given list of integers. Use Python map.\n",
    "\n",
    "sample list: [1, 2, 3, 4, 5, 6, 7]\n",
    "\n",
    "Triple of list numbers:\n",
    "[3, 6, 9, 12, 15, 18, 21]"
   ]
  },
  {
   "cell_type": "code",
   "execution_count": 2,
   "id": "b58b934b",
   "metadata": {},
   "outputs": [
    {
     "name": "stdout",
     "output_type": "stream",
     "text": [
      "Sample list:  [1, 2, 3, 4, 5, 6, 7]\n",
      "Triple of list numbers: \n",
      "[3, 6, 9, 12, 15, 18, 21]\n"
     ]
    }
   ],
   "source": [
    "list1 = [1,2,3,4,5,6,7]\n",
    "print(\"Sample list: \", list1)\n",
    "triple_list = map(lambda x: x*3, list1) \n",
    "print(\"Triple of list numbers: \")\n",
    "print(list(triple_list))"
   ]
  },
  {
   "cell_type": "markdown",
   "id": "dcc81a11",
   "metadata": {},
   "source": [
    "# Write a Python program to square the elements of a list using map() function.\n",
    "\n",
    "Sample List: [4, 5, 2, 9]\n",
    "Square the elements of the list:\n",
    "[16, 25, 4, 81]"
   ]
  },
  {
   "cell_type": "code",
   "execution_count": 4,
   "id": "0c62c657",
   "metadata": {},
   "outputs": [
    {
     "name": "stdout",
     "output_type": "stream",
     "text": [
      "Sample list:  [4, 5, 2, 9]\n",
      "Square the elements of the list: \n",
      "[16, 25, 4, 81]\n"
     ]
    }
   ],
   "source": [
    "list1 = [4,5,2,9]\n",
    "print(\"Sample list: \", list1)\n",
    "square_list = map(lambda x: x*x, list1) \n",
    "print(\"Square the elements of the list: \")\n",
    "print(list(square_list))"
   ]
  }
 ],
 "metadata": {
  "kernelspec": {
   "display_name": "Python 3 (ipykernel)",
   "language": "python",
   "name": "python3"
  },
  "language_info": {
   "codemirror_mode": {
    "name": "ipython",
    "version": 3
   },
   "file_extension": ".py",
   "mimetype": "text/x-python",
   "name": "python",
   "nbconvert_exporter": "python",
   "pygments_lexer": "ipython3",
   "version": "3.9.13"
  }
 },
 "nbformat": 4,
 "nbformat_minor": 5
}
