{
 "cells": [
  {
   "cell_type": "code",
   "execution_count": null,
   "id": "b60fc4fe",
   "metadata": {},
   "outputs": [],
   "source": [
    "import numpy as np"
   ]
  },
  {
   "cell_type": "markdown",
   "id": "0aeeb9cc",
   "metadata": {},
   "source": [
    "## 1. Create a null vector of size 10 but the fifth value which is 1."
   ]
  },
  {
   "cell_type": "code",
   "execution_count": 1,
   "id": "1694a4ca",
   "metadata": {},
   "outputs": [
    {
     "name": "stdout",
     "output_type": "stream",
     "text": [
      "[0. 0. 0. 0. 1. 0. 0. 0. 0. 0.]\n"
     ]
    }
   ],
   "source": [
    "import numpy as np\n",
    "z = np.zeros(10)\n",
    "z[4] = 1\n",
    "print(z)"
   ]
  },
  {
   "cell_type": "markdown",
   "id": "0f16f3a4",
   "metadata": {},
   "source": [
    "## 2. Create a vector with values ranging from 10 to 49."
   ]
  },
  {
   "cell_type": "code",
   "execution_count": 3,
   "id": "8e815d84",
   "metadata": {},
   "outputs": [
    {
     "name": "stdout",
     "output_type": "stream",
     "text": [
      "[10 11 12 13 14 15 16 17 18 19 20 21 22 23 24 25 26 27 28 29 30 31 32 33\n",
      " 34 35 36 37 38 39 40 41 42 43 44 45 46 47 48 49]\n"
     ]
    }
   ],
   "source": [
    "import numpy as np\n",
    "z = np.arange(10,50)\n",
    "print(z)"
   ]
  },
  {
   "cell_type": "markdown",
   "id": "9c9e86d6",
   "metadata": {},
   "source": [
    "## 3. Create a 3x3 matrix with values ranging from 0 to 8"
   ]
  },
  {
   "cell_type": "code",
   "execution_count": 6,
   "id": "54247917",
   "metadata": {},
   "outputs": [
    {
     "name": "stdout",
     "output_type": "stream",
     "text": [
      "[[0 1 2]\n",
      " [3 4 5]\n",
      " [6 7 8]]\n"
     ]
    }
   ],
   "source": [
    "import numpy as np\n",
    "z = np.arange(9).reshape(3,3)\n",
    "print(z)"
   ]
  },
  {
   "cell_type": "markdown",
   "id": "0265fa50",
   "metadata": {},
   "source": [
    "## 4. Find indices of non-zero elements from [1,2,0,0,4,0]"
   ]
  },
  {
   "cell_type": "code",
   "execution_count": 11,
   "id": "7a6d665e",
   "metadata": {},
   "outputs": [
    {
     "name": "stdout",
     "output_type": "stream",
     "text": [
      "[0, 1, 4]\n"
     ]
    }
   ],
   "source": [
    "import numpy as np\n",
    "l = [1, 2, 0, 0, 4, 0]\n",
    "z = np.array(l)\n",
    "l_new = list(np.nonzero(z)[0]) \n",
    "print(l_new)"
   ]
  },
  {
   "cell_type": "markdown",
   "id": "7bd3e992",
   "metadata": {},
   "source": [
    "## 5. Create a 10x10 array with random values and find the minimum and maximum values."
   ]
  },
  {
   "cell_type": "code",
   "execution_count": 9,
   "id": "92b5551e",
   "metadata": {},
   "outputs": [
    {
     "name": "stdout",
     "output_type": "stream",
     "text": [
      "[[0.09787938 0.45152473 0.95204482 0.91353571 0.63772748 0.11406457\n",
      "  0.00944548 0.9750989  0.09958424 0.82034234]\n",
      " [0.41809955 0.10195002 0.33647193 0.79058661 0.48328013 0.08508407\n",
      "  0.8543568  0.93171962 0.16593694 0.41008203]\n",
      " [0.96581885 0.71171951 0.33609951 0.65744624 0.07216833 0.24760438\n",
      "  0.16162517 0.80135783 0.45350255 0.94839304]\n",
      " [0.00852767 0.71272771 0.43318611 0.52481702 0.0169153  0.79445481\n",
      "  0.818685   0.20786132 0.49326489 0.07795037]\n",
      " [0.54354374 0.25740791 0.59306176 0.01662121 0.83788422 0.78560932\n",
      "  0.17101139 0.94578753 0.4316447  0.90677215]\n",
      " [0.30656556 0.12580596 0.38830657 0.91377271 0.19463296 0.13254636\n",
      "  0.49078118 0.95078635 0.37933138 0.90920099]\n",
      " [0.93910286 0.04228358 0.38293637 0.57805101 0.11934057 0.68720497\n",
      "  0.7218413  0.72041657 0.95121087 0.31790277]\n",
      " [0.02457813 0.4371649  0.31376637 0.53094886 0.11132491 0.0419212\n",
      "  0.60195448 0.45382867 0.35513021 0.21133492]\n",
      " [0.33829294 0.70154437 0.91459359 0.61493876 0.26528576 0.21559717\n",
      "  0.2955451  0.00313623 0.82980075 0.37507209]\n",
      " [0.5258247  0.58879908 0.16971602 0.13149997 0.13856931 0.55483083\n",
      "  0.23909928 0.85323862 0.04934679 0.42573958]]\n",
      "Minimum and Maximum Values: \n",
      "0.003136226237959061 0.9750989031276802\n"
     ]
    }
   ],
   "source": [
    "import numpy as np\n",
    "z = np.random.random((10,10))\n",
    "print(z) \n",
    "zmin, zmax = z.min(), z.max()\n",
    "print(\"Minimum and Maximum Values: \")\n",
    "print(zmin, zmax)"
   ]
  },
  {
   "cell_type": "markdown",
   "id": "62f0f2a4",
   "metadata": {},
   "source": [
    "## 6. Create a random vector of size 30 and find the mean value."
   ]
  },
  {
   "cell_type": "code",
   "execution_count": 13,
   "id": "7d25ee16",
   "metadata": {},
   "outputs": [
    {
     "name": "stdout",
     "output_type": "stream",
     "text": [
      "0.49161850410642843\n"
     ]
    }
   ],
   "source": [
    "z = np.random.random(30)\n",
    "m =z.mean()\n",
    "print(m)"
   ]
  }
 ],
 "metadata": {
  "kernelspec": {
   "display_name": "Python 3 (ipykernel)",
   "language": "python",
   "name": "python3"
  },
  "language_info": {
   "codemirror_mode": {
    "name": "ipython",
    "version": 3
   },
   "file_extension": ".py",
   "mimetype": "text/x-python",
   "name": "python",
   "nbconvert_exporter": "python",
   "pygments_lexer": "ipython3",
   "version": "3.10.9"
  }
 },
 "nbformat": 4,
 "nbformat_minor": 5
}
