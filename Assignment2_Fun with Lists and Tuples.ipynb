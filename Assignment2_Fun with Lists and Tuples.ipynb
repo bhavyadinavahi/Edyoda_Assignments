{
 "cells": [
  {
   "cell_type": "markdown",
   "id": "375d3345",
   "metadata": {},
   "source": [
    "# Write a Python program to get a list, sorted in increasing order by the last element in each tuple from a given list of non-empty tuples"
   ]
  },
  {
   "cell_type": "code",
   "execution_count": 4,
   "id": "7d63bec7",
   "metadata": {},
   "outputs": [
    {
     "name": "stdout",
     "output_type": "stream",
     "text": [
      "Orignal list :  [(2, 5), (1, 2), (4, 4), (2, 3), (2, 1)]\n",
      "Sorted list:  [(2, 1), (1, 2), (2, 3), (4, 4), (2, 5)]\n"
     ]
    }
   ],
   "source": [
    "tuple_original=[(2,5), (1,2), (4,4), (2,3), (2,1)]\n",
    "print(\"Orignal list : \", tuple_original)\n",
    "\n",
    "tuple_1=[]\n",
    "tuple_sorted=[]\n",
    "\n",
    "for i in tuple_original:\n",
    "    tuple_1.append(i[1],)\n",
    "    x=sorted(tuple_1)\n",
    "for j in x:\n",
    "    for k in tuple_original:\n",
    "        if j==int(k[1],):\n",
    "            tuple_sorted.append(k)\n",
    "print(\"Sorted list: \", tuple_sorted)"
   ]
  },
  {
   "cell_type": "code",
   "execution_count": null,
   "id": "76d3b3cd",
   "metadata": {},
   "outputs": [],
   "source": []
  }
 ],
 "metadata": {
  "kernelspec": {
   "display_name": "Python 3 (ipykernel)",
   "language": "python",
   "name": "python3"
  },
  "language_info": {
   "codemirror_mode": {
    "name": "ipython",
    "version": 3
   },
   "file_extension": ".py",
   "mimetype": "text/x-python",
   "name": "python",
   "nbconvert_exporter": "python",
   "pygments_lexer": "ipython3",
   "version": "3.9.13"
  }
 },
 "nbformat": 4,
 "nbformat_minor": 5
}
