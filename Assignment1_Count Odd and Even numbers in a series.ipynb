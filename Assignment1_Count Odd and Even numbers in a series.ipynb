{
 "cells": [
  {
   "cell_type": "markdown",
   "id": "a90f3fc3",
   "metadata": {},
   "source": [
    "# To count odd and even numbers in a series of numbers"
   ]
  },
  {
   "cell_type": "code",
   "execution_count": 1,
   "id": "053b0dcb",
   "metadata": {},
   "outputs": [
    {
     "name": "stdout",
     "output_type": "stream",
     "text": [
      "Enter a series of numbers: (1,2,3,4,5,6,7,8,9)\n",
      "Number of Even numbers in given series is:  4\n",
      "Number of Odd numbers in given series is:  5\n"
     ]
    }
   ],
   "source": [
    "x=eval(input(\"Enter a series of numbers: \"))\n",
    "count_even=0\n",
    "count_odd=0\n",
    "for i in x:\n",
    "    if i%2==0:\n",
    "        count_even=count_even+1\n",
    "    else:\n",
    "        count_odd=count_odd+1\n",
    "print(\"Number of Even numbers in given series is: \",count_even)\n",
    "print(\"Number of Odd numbers in given series is: \",count_odd)"
   ]
  }
 ],
 "metadata": {
  "kernelspec": {
   "display_name": "Python 3 (ipykernel)",
   "language": "python",
   "name": "python3"
  },
  "language_info": {
   "codemirror_mode": {
    "name": "ipython",
    "version": 3
   },
   "file_extension": ".py",
   "mimetype": "text/x-python",
   "name": "python",
   "nbconvert_exporter": "python",
   "pygments_lexer": "ipython3",
   "version": "3.9.13"
  }
 },
 "nbformat": 4,
 "nbformat_minor": 5
}
