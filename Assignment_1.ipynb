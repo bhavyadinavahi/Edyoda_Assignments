{
 "cells": [
  {
   "cell_type": "markdown",
   "id": "a69918d5",
   "metadata": {},
   "source": [
    "# Write a Python program to get the Fibonacci series between 0 to 50"
   ]
  },
  {
   "cell_type": "code",
   "execution_count": 1,
   "id": "2f63d59a",
   "metadata": {},
   "outputs": [
    {
     "name": "stdout",
     "output_type": "stream",
     "text": [
      "Enter the starting number for range: 0\n",
      "Enter the ending number for range: 50\n",
      "Fibonacci series between 0 to 50  is: \n",
      "0\n",
      "1\n",
      "1\n",
      "2\n",
      "3\n",
      "5\n",
      "8\n",
      "13\n",
      "21\n",
      "34\n"
     ]
    }
   ],
   "source": [
    "start=int(input(\"Enter the starting number for range: \"))\n",
    "end=int(input(\"Enter the ending number for range: \"))\n",
    "a=0\n",
    "b=1\n",
    "sum=0\n",
    "print(\"Fibonacci series between\",start,\"to\" ,end, \" is: \")\n",
    "while(sum<end):\n",
    "    a=b\n",
    "    b=sum\n",
    "    sum=a+b\n",
    "    print(b)\n",
    "print(end=\"\")"
   ]
  },
  {
   "cell_type": "markdown",
   "id": "59f3288e",
   "metadata": {},
   "source": [
    "# Write a Python program to accept a word from the user and reverse it"
   ]
  },
  {
   "cell_type": "code",
   "execution_count": 4,
   "id": "aa858211",
   "metadata": {},
   "outputs": [
    {
     "name": "stdout",
     "output_type": "stream",
     "text": [
      "Please enter a string: Bhavya\n",
      "The original string:  Bhavya\n",
      "The reversed string:  ayvahB\n"
     ]
    }
   ],
   "source": [
    "string_1 = input(\"Please enter a string: \")\n",
    "\n",
    "string_2 = \"\"\n",
    "\n",
    "for i in string_1:\n",
    "    string_2 = i + string_2\n",
    "    \n",
    "print(\"The original string: \", string_1)\n",
    "print(\"The reversed string: \", string_2)"
   ]
  },
  {
   "cell_type": "markdown",
   "id": "e4763348",
   "metadata": {},
   "source": [
    "# Write a Python program to count odd and even numbers in a series of numbers"
   ]
  },
  {
   "cell_type": "code",
   "execution_count": 3,
   "id": "114fffcf",
   "metadata": {},
   "outputs": [
    {
     "name": "stdout",
     "output_type": "stream",
     "text": [
      "Enter a series of numbers: (1,2,3,4,5,6,7,8,9)\n",
      "Number of Even numbers in given series is:  4\n",
      "Number of Odd numbers in given series is:  5\n"
     ]
    }
   ],
   "source": [
    "x=eval(input(\"Enter a series of numbers: \"))\n",
    "count_even=0\n",
    "count_odd=0\n",
    "for i in x:\n",
    "    if i%2==0:\n",
    "        count_even=count_even+1\n",
    "    else:\n",
    "        count_odd=count_odd+1\n",
    "print(\"Number of Even numbers in given series is: \",count_even)\n",
    "print(\"Number of Odd numbers in given series is: \",count_odd)"
   ]
  }
 ],
 "metadata": {
  "kernelspec": {
   "display_name": "Python 3 (ipykernel)",
   "language": "python",
   "name": "python3"
  },
  "language_info": {
   "codemirror_mode": {
    "name": "ipython",
    "version": 3
   },
   "file_extension": ".py",
   "mimetype": "text/x-python",
   "name": "python",
   "nbconvert_exporter": "python",
   "pygments_lexer": "ipython3",
   "version": "3.9.13"
  }
 },
 "nbformat": 4,
 "nbformat_minor": 5
}
