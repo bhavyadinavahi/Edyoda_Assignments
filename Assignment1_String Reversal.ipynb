{
 "cells": [
  {
   "cell_type": "markdown",
   "id": "6a70d3d3",
   "metadata": {},
   "source": [
    "# To accept a word from the user and reverse it"
   ]
  },
  {
   "cell_type": "code",
   "execution_count": 1,
   "id": "a39981ce",
   "metadata": {},
   "outputs": [
    {
     "name": "stdout",
     "output_type": "stream",
     "text": [
      "Please enter a string: Bhavya\n",
      "The original string:  Bhavya\n",
      "The reversed string::  ayvahB\n"
     ]
    }
   ],
   "source": [
    "string_1 = input(\"Please enter a string: \")\n",
    "\n",
    "string_2 = \"\"\n",
    "\n",
    "for i in string_1:\n",
    "    string_2 = i + string_2\n",
    "    \n",
    "print(\"The original string: \", string_1)\n",
    "print(\"The reversed string:: \", string_2)"
   ]
  }
 ],
 "metadata": {
  "kernelspec": {
   "display_name": "Python 3 (ipykernel)",
   "language": "python",
   "name": "python3"
  },
  "language_info": {
   "codemirror_mode": {
    "name": "ipython",
    "version": 3
   },
   "file_extension": ".py",
   "mimetype": "text/x-python",
   "name": "python",
   "nbconvert_exporter": "python",
   "pygments_lexer": "ipython3",
   "version": "3.9.13"
  }
 },
 "nbformat": 4,
 "nbformat_minor": 5
}
