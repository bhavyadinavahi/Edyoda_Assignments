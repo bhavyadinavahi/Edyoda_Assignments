{
 "cells": [
  {
   "cell_type": "markdown",
   "id": "3ec64dd9",
   "metadata": {},
   "source": [
    "# Write a Python program to get a list, sorted in increasing order by the last element in each tuple from a given list of non-empty tuples"
   ]
  },
  {
   "cell_type": "code",
   "execution_count": 1,
   "id": "26a4f315",
   "metadata": {},
   "outputs": [
    {
     "name": "stdout",
     "output_type": "stream",
     "text": [
      "Orignal list :  [(2, 5), (1, 2), (4, 4), (2, 3), (2, 1)]\n",
      "Sorted list:  [(2, 1), (1, 2), (2, 3), (4, 4), (2, 5)]\n"
     ]
    }
   ],
   "source": [
    "tuple_original=[(2,5), (1,2), (4,4), (2,3), (2,1)]\n",
    "print(\"Orignal list : \", tuple_original)\n",
    "\n",
    "tuple_1=[]\n",
    "tuple_sorted=[]\n",
    "\n",
    "for i in tuple_original:\n",
    "    tuple_1.append(i[1],)\n",
    "    x=sorted(tuple_1)\n",
    "for j in x:\n",
    "    for k in tuple_original:\n",
    "        if j==int(k[1],):\n",
    "            tuple_sorted.append(k)\n",
    "print(\"Sorted list: \", tuple_sorted)"
   ]
  },
  {
   "cell_type": "markdown",
   "id": "63f8450d",
   "metadata": {},
   "source": [
    "# Write a Python program to print a dictionary whose keys should be the alphabet from a-z and the value should be corresponding ASCII values"
   ]
  },
  {
   "cell_type": "code",
   "execution_count": 2,
   "id": "772a9de7",
   "metadata": {},
   "outputs": [
    {
     "name": "stdout",
     "output_type": "stream",
     "text": [
      "{'a': 97, 'b': 98, 'c': 99, 'd': 100, 'e': 101, 'f': 102, 'g': 103, 'h': 104, 'i': 105, 'j': 106, 'k': 107, 'l': 108, 'm': 109, 'n': 110, 'o': 111, 'p': 112, 'q': 113, 'r': 114, 's': 115, 't': 116, 'u': 117, 'v': 118, 'w': 119, 'x': 120, 'y': 121, 'z': 122}\n"
     ]
    }
   ],
   "source": [
    "ascii_dict = {}\n",
    "\n",
    "for i in range (97, 123):\n",
    "    ascii_dict[chr(i)] = i\n",
    "\n",
    "print(ascii_dict)"
   ]
  }
 ],
 "metadata": {
  "kernelspec": {
   "display_name": "Python 3 (ipykernel)",
   "language": "python",
   "name": "python3"
  },
  "language_info": {
   "codemirror_mode": {
    "name": "ipython",
    "version": 3
   },
   "file_extension": ".py",
   "mimetype": "text/x-python",
   "name": "python",
   "nbconvert_exporter": "python",
   "pygments_lexer": "ipython3",
   "version": "3.9.13"
  }
 },
 "nbformat": 4,
 "nbformat_minor": 5
}
